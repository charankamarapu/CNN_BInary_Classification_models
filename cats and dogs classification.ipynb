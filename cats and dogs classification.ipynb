{
 "cells": [
  {
   "cell_type": "code",
   "execution_count": 1,
   "id": "35615a03",
   "metadata": {},
   "outputs": [],
   "source": [
    "import os, shutil\n",
    "\n",
    "original_dataset_dir = 'C:/Users/kamar/OneDrive/Desktop/cats_and_dogs' #path in which you saved the dataset\n",
    "\n",
    "base_dir = 'C:/Users/kamar/OneDrive/Desktop/cats_and_dogs_small' #path in which you want to create train test split \n",
    "os.mkdir(base_dir)\n",
    "\n",
    "train_dir = os.path.join(base_dir, 'train')\n",
    "os.mkdir(train_dir)\n",
    "\n",
    "validation_dir = os.path.join(base_dir, 'validation')\n",
    "os.mkdir(validation_dir)\n",
    "\n",
    "test_dir = os.path.join(base_dir, 'test')\n",
    "os.mkdir(test_dir)\n",
    "\n",
    "train_cats_dir = os.path.join(train_dir, 'cats')\n",
    "os.mkdir(train_cats_dir)\n",
    "\n",
    "train_dogs_dir = os.path.join(train_dir, 'dogs')\n",
    "os.mkdir(train_dogs_dir)\n",
    "\n",
    "validation_cats_dir = os.path.join(validation_dir, 'cats')\n",
    "os.mkdir(validation_cats_dir)\n",
    "\n",
    "validation_dogs_dir = os.path.join(validation_dir, 'dogs')\n",
    "os.mkdir(validation_dogs_dir)\n",
    "\n",
    "test_cats_dir = os.path.join(test_dir, 'cats')\n",
    "os.mkdir(test_cats_dir)\n",
    "\n",
    "test_dogs_dir = os.path.join(test_dir, 'dogs')\n",
    "os.mkdir(test_dogs_dir)\n",
    "\n",
    "fnames = ['cat.{}.jpg'.format(i) for i in range(1000)]\n",
    "for fname in fnames:\n",
    "    src = os.path.join(original_dataset_dir, fname)\n",
    "    dst = os.path.join(train_cats_dir, fname)\n",
    "    shutil.copyfile(src, dst)\n",
    "    \n",
    "fnames = ['cat.{}.jpg'.format(i) for i in range(1000, 1500)]\n",
    "for fname in fnames:\n",
    "    src = os.path.join(original_dataset_dir, fname)\n",
    "    dst = os.path.join(validation_cats_dir, fname)\n",
    "    shutil.copyfile(src, dst)\n",
    "    \n",
    "fnames = ['cat.{}.jpg'.format(i) for i in range(1500, 2000)]\n",
    "for fname in fnames:\n",
    "    src = os.path.join(original_dataset_dir, fname)\n",
    "    dst = os.path.join(test_cats_dir, fname)\n",
    "    shutil.copyfile(src, dst)\n",
    "    \n",
    "fnames = ['dog.{}.jpg'.format(i) for i in range(1000)]\n",
    "for fname in fnames:\n",
    "    src = os.path.join(original_dataset_dir, fname)\n",
    "    dst = os.path.join(train_dogs_dir, fname)\n",
    "    shutil.copyfile(src, dst)\n",
    "    \n",
    "fnames = ['dog.{}.jpg'.format(i) for i in range(1000, 1500)]\n",
    "for fname in fnames:\n",
    "    src = os.path.join(original_dataset_dir, fname)\n",
    "    dst = os.path.join(validation_dogs_dir, fname)\n",
    "    shutil.copyfile(src, dst)\n",
    "    \n",
    "fnames = ['dog.{}.jpg'.format(i) for i in range(1500, 2000)]\n",
    "for fname in fnames:\n",
    "    src = os.path.join(original_dataset_dir, fname)\n",
    "    dst = os.path.join(test_dogs_dir, fname)\n",
    "    shutil.copyfile(src, dst)"
   ]
  },
  {
   "cell_type": "code",
   "execution_count": 1,
   "id": "186e99d8",
   "metadata": {},
   "outputs": [
    {
     "name": "stderr",
     "output_type": "stream",
     "text": [
      "Using TensorFlow backend.\n"
     ]
    }
   ],
   "source": [
    "from keras.preprocessing.image import ImageDataGenerator"
   ]
  },
  {
   "cell_type": "code",
   "execution_count": 4,
   "id": "88456600",
   "metadata": {},
   "outputs": [
    {
     "name": "stdout",
     "output_type": "stream",
     "text": [
      "Found 2000 images belonging to 2 classes.\n",
      "Found 1000 images belonging to 2 classes.\n"
     ]
    }
   ],
   "source": [
    "train_datagen = ImageDataGenerator(rescale=1./255)\n",
    "\n",
    "test_datagen = ImageDataGenerator(rescale=1./255)\n",
    "\n",
    "train_generator = train_datagen.flow_from_directory(train_dir,target_size=(150, 150),batch_size=20,class_mode='binary')\n",
    "\n",
    "validation_generator = test_datagen.flow_from_directory(validation_dir,target_size=(150, 150),batch_size=20,class_mode='binary')"
   ]
  },
  {
   "cell_type": "code",
   "execution_count": 5,
   "id": "9d9bb11a",
   "metadata": {},
   "outputs": [
    {
     "name": "stdout",
     "output_type": "stream",
     "text": [
      "WARNING:tensorflow:From C:\\Users\\kamar\\anaconda3\\envs\\myenv\\lib\\site-packages\\keras\\backend\\tensorflow_backend.py:4070: The name tf.nn.max_pool is deprecated. Please use tf.nn.max_pool2d instead.\n",
      "\n"
     ]
    }
   ],
   "source": [
    "from keras import layers\n",
    "from keras import models\n",
    "model = models.Sequential()\n",
    "model.add(layers.Conv2D(32, (3, 3), activation='relu',\n",
    "input_shape=(150, 150, 3)))\n",
    "model.add(layers.MaxPooling2D((2, 2)))\n",
    "model.add(layers.Conv2D(64, (3, 3), activation='relu'))\n",
    "model.add(layers.MaxPooling2D((2, 2)))\n",
    "model.add(layers.Conv2D(128, (3, 3), activation='relu'))\n",
    "model.add(layers.MaxPooling2D((2, 2)))\n",
    "model.add(layers.Conv2D(128, (3, 3), activation='relu'))\n",
    "model.add(layers.MaxPooling2D((2, 2)))\n",
    "model.add(layers.Flatten())\n",
    "model.add(layers.Dense(512, activation='relu'))\n",
    "model.add(layers.Dense(1, activation='sigmoid'))"
   ]
  },
  {
   "cell_type": "code",
   "execution_count": 6,
   "id": "8d8ab2c7",
   "metadata": {},
   "outputs": [
    {
     "name": "stdout",
     "output_type": "stream",
     "text": [
      "WARNING:tensorflow:From C:\\Users\\kamar\\anaconda3\\envs\\myenv\\lib\\site-packages\\tensorflow\\python\\ops\\nn_impl.py:180: add_dispatch_support.<locals>.wrapper (from tensorflow.python.ops.array_ops) is deprecated and will be removed in a future version.\n",
      "Instructions for updating:\n",
      "Use tf.where in 2.0, which has the same broadcast rule as np.where\n"
     ]
    }
   ],
   "source": [
    "from keras import optimizers\n",
    "model.compile(loss='binary_crossentropy',optimizer=optimizers.RMSprop(lr=1e-4),metrics=['acc'])"
   ]
  },
  {
   "cell_type": "code",
   "execution_count": 7,
   "id": "fba7b778",
   "metadata": {},
   "outputs": [
    {
     "name": "stdout",
     "output_type": "stream",
     "text": [
      "WARNING:tensorflow:From C:\\Users\\kamar\\anaconda3\\envs\\myenv\\lib\\site-packages\\keras\\backend\\tensorflow_backend.py:422: The name tf.global_variables is deprecated. Please use tf.compat.v1.global_variables instead.\n",
      "\n",
      "Epoch 1/30\n",
      "100/100 [==============================] - 55s 552ms/step - loss: 0.6944 - acc: 0.5180 - val_loss: 0.6639 - val_acc: 0.5470\n",
      "Epoch 2/30\n",
      "100/100 [==============================] - 44s 439ms/step - loss: 0.6643 - acc: 0.5950 - val_loss: 0.5778 - val_acc: 0.6090\n",
      "Epoch 3/30\n",
      "100/100 [==============================] - 44s 437ms/step - loss: 0.6171 - acc: 0.6590 - val_loss: 0.8159 - val_acc: 0.5890\n",
      "Epoch 4/30\n",
      "100/100 [==============================] - 44s 440ms/step - loss: 0.5689 - acc: 0.7020 - val_loss: 0.4764 - val_acc: 0.6640\n",
      "Epoch 5/30\n",
      "100/100 [==============================] - 44s 441ms/step - loss: 0.5438 - acc: 0.7270 - val_loss: 0.5182 - val_acc: 0.7000\n",
      "Epoch 6/30\n",
      "100/100 [==============================] - 44s 442ms/step - loss: 0.5124 - acc: 0.7360 - val_loss: 0.5163 - val_acc: 0.7160\n",
      "Epoch 7/30\n",
      "100/100 [==============================] - 45s 446ms/step - loss: 0.4870 - acc: 0.7615 - val_loss: 0.5299 - val_acc: 0.7020\n",
      "Epoch 8/30\n",
      "100/100 [==============================] - 45s 450ms/step - loss: 0.4595 - acc: 0.7850 - val_loss: 0.4134 - val_acc: 0.6880\n",
      "Epoch 9/30\n",
      "100/100 [==============================] - 46s 464ms/step - loss: 0.4369 - acc: 0.7930 - val_loss: 0.6243 - val_acc: 0.7090\n",
      "Epoch 10/30\n",
      "100/100 [==============================] - 46s 465ms/step - loss: 0.4082 - acc: 0.8135 - val_loss: 0.6271 - val_acc: 0.6950\n",
      "Epoch 11/30\n",
      "100/100 [==============================] - 46s 455ms/step - loss: 0.3832 - acc: 0.8260 - val_loss: 0.3047 - val_acc: 0.7210\n",
      "Epoch 12/30\n",
      "100/100 [==============================] - 46s 456ms/step - loss: 0.3556 - acc: 0.8560 - val_loss: 0.5880 - val_acc: 0.7310\n",
      "Epoch 13/30\n",
      "100/100 [==============================] - 45s 455ms/step - loss: 0.3347 - acc: 0.8640 - val_loss: 0.5995 - val_acc: 0.7170\n",
      "Epoch 14/30\n",
      "100/100 [==============================] - 46s 455ms/step - loss: 0.3135 - acc: 0.8690 - val_loss: 0.7373 - val_acc: 0.7370\n",
      "Epoch 15/30\n",
      "100/100 [==============================] - 46s 456ms/step - loss: 0.2818 - acc: 0.8815 - val_loss: 0.5307 - val_acc: 0.7010\n",
      "Epoch 16/30\n",
      "100/100 [==============================] - 46s 456ms/step - loss: 0.2624 - acc: 0.8890 - val_loss: 0.8083 - val_acc: 0.6880\n",
      "Epoch 17/30\n",
      "100/100 [==============================] - 47s 474ms/step - loss: 0.2397 - acc: 0.9080 - val_loss: 0.9784 - val_acc: 0.7060\n",
      "Epoch 18/30\n",
      "100/100 [==============================] - 46s 455ms/step - loss: 0.2291 - acc: 0.9115 - val_loss: 0.4042 - val_acc: 0.7150\n",
      "Epoch 19/30\n",
      "100/100 [==============================] - 46s 459ms/step - loss: 0.1963 - acc: 0.9270 - val_loss: 0.4108 - val_acc: 0.7510\n",
      "Epoch 20/30\n",
      "100/100 [==============================] - 45s 454ms/step - loss: 0.1771 - acc: 0.9300 - val_loss: 0.8406 - val_acc: 0.7300\n",
      "Epoch 21/30\n",
      "100/100 [==============================] - 46s 455ms/step - loss: 0.1589 - acc: 0.9430 - val_loss: 0.4377 - val_acc: 0.7400\n",
      "Epoch 22/30\n",
      "100/100 [==============================] - 46s 462ms/step - loss: 0.1408 - acc: 0.9535 - val_loss: 0.6415 - val_acc: 0.7300\n",
      "Epoch 23/30\n",
      "100/100 [==============================] - 47s 469ms/step - loss: 0.1264 - acc: 0.9585 - val_loss: 0.3720 - val_acc: 0.7480\n",
      "Epoch 24/30\n",
      "100/100 [==============================] - 46s 459ms/step - loss: 0.1160 - acc: 0.9570 - val_loss: 0.7877 - val_acc: 0.7440\n",
      "Epoch 25/30\n",
      "100/100 [==============================] - 47s 468ms/step - loss: 0.0948 - acc: 0.9725 - val_loss: 0.8588 - val_acc: 0.7410\n",
      "Epoch 26/30\n",
      "100/100 [==============================] - 46s 457ms/step - loss: 0.0828 - acc: 0.9755 - val_loss: 0.7813 - val_acc: 0.7370\n",
      "Epoch 27/30\n",
      "100/100 [==============================] - 46s 459ms/step - loss: 0.0641 - acc: 0.9850 - val_loss: 1.5336 - val_acc: 0.7250\n",
      "Epoch 28/30\n",
      "100/100 [==============================] - 46s 461ms/step - loss: 0.0609 - acc: 0.9820 - val_loss: 1.3590 - val_acc: 0.7340\n",
      "Epoch 29/30\n",
      "100/100 [==============================] - 47s 466ms/step - loss: 0.0574 - acc: 0.9830 - val_loss: 0.2108 - val_acc: 0.7380\n",
      "Epoch 30/30\n",
      "100/100 [==============================] - 45s 455ms/step - loss: 0.0441 - acc: 0.9870 - val_loss: 1.1171 - val_acc: 0.7310\n"
     ]
    }
   ],
   "source": [
    "history = model.fit_generator(train_generator,steps_per_epoch=100,epochs=30,validation_data=validation_generator,validation_steps=50)"
   ]
  },
  {
   "cell_type": "code",
   "execution_count": 10,
   "id": "2f562e48",
   "metadata": {},
   "outputs": [
    {
     "data": {
      "image/png": "[encoded data removed]",
      "text/plain": [
       "<Figure size 432x288 with 1 Axes>"
      ]
     },
     "metadata": {
      "needs_background": "light"
     },
     "output_type": "display_data"
    },
    {
     "data": {
      "image/png": "[encoded data removed]",
      "text/plain": [
       "<Figure size 432x288 with 1 Axes>"
      ]
     },
     "metadata": {
      "needs_background": "light"
     },
     "output_type": "display_data"
    }
   ],
   "source": [
    "import matplotlib.pyplot as plt\n",
    "acc = history.history['acc']\n",
    "val_acc = history.history['val_acc']\n",
    "loss = history.history['loss']\n",
    "val_loss = history.history['val_loss']\n",
    "epochs = range(1, len(acc) + 1)\n",
    "plt.plot(epochs, acc, 'bo', label='Training accuracy')\n",
    "plt.plot(epochs, val_acc, 'b', label='Validation accuracy')\n",
    "plt.title('Training and validation accuracy')\n",
    "plt.legend()\n",
    "plt.figure()\n",
    "plt.plot(epochs, loss, 'bo', label='Training loss')\n",
    "plt.plot(epochs, val_loss, 'b', label='Validation loss')\n",
    "plt.title('Training and validation loss')\n",
    "plt.legend()\n",
    "plt.show()"
   ]
  },
  {
   "cell_type": "code",
   "execution_count": null,
   "id": "f02d601a",
   "metadata": {},
   "outputs": [],
   "source": [
    "# you can add data agumentation and dropouts"
   ]
  }
 ],
 "metadata": {
  "kernelspec": {
   "display_name": "Python [conda env:myenv] *",
   "language": "python",
   "name": "conda-env-myenv-py"
  },
  "language_info": {
   "codemirror_mode": {
    "name": "ipython",
    "version": 3
   },
   "file_extension": ".py",
   "mimetype": "text/x-python",
   "name": "python",
   "nbconvert_exporter": "python",
   "pygments_lexer": "ipython3",
   "version": "3.6.13"
  }
 },
 "nbformat": 4,
 "nbformat_minor": 5
}
